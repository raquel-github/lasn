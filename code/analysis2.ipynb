{
 "cells": [
  {
   "cell_type": "code",
   "execution_count": 37,
   "metadata": {},
   "outputs": [
    {
     "data": {
      "text/html": [
       "<table>\n",
       "<thead><tr><th scope=col>user_id</th><th scope=col>coord_given_univ_agg</th><th scope=col>coord_received_univ_agg</th><th scope=col>eigenvector_centrality</th><th scope=col>italics_usage</th><th scope=col>bold_usage</th><th scope=col>link_usage</th><th scope=col>avg_post_length</th><th scope=col>n_posts</th></tr></thead>\n",
       "<tbody>\n",
       "\t<tr><td>JensWilkinson</td><td>NA           </td><td>        NA   </td><td>3.190782e-06 </td><td> 0           </td><td> 0           </td><td> 0           </td><td> 0           </td><td>1            </td></tr>\n",
       "\t<tr><td>RenamedUser5 </td><td>NA           </td><td> 0.0000000   </td><td>5.084699e-06 </td><td> 0           </td><td> 0           </td><td> 0           </td><td> 3           </td><td>1            </td></tr>\n",
       "\t<tr><td>Aitias       </td><td>NA           </td><td>        NA   </td><td>          NA </td><td>NA           </td><td>NA           </td><td>NA           </td><td>NA           </td><td>0            </td></tr>\n",
       "\t<tr><td>Gareon       </td><td> 0           </td><td>        NA   </td><td>5.665886e-10 </td><td> 0           </td><td> 0           </td><td> 0           </td><td> 2           </td><td>1            </td></tr>\n",
       "\t<tr><td>Bencmq       </td><td> 0           </td><td>-0.1428571   </td><td>6.624744e-06 </td><td> 0           </td><td> 0           </td><td> 0           </td><td> 5           </td><td>2            </td></tr>\n",
       "\t<tr><td>Altruism     </td><td>NA           </td><td> 0.0000000   </td><td>6.011933e-06 </td><td> 0           </td><td> 0           </td><td> 0           </td><td> 5           </td><td>2            </td></tr>\n",
       "</tbody>\n",
       "</table>\n"
      ],
      "text/latex": [
       "\\begin{tabular}{r|lllllllll}\n",
       " user\\_id & coord\\_given\\_univ\\_agg & coord\\_received\\_univ\\_agg & eigenvector\\_centrality & italics\\_usage & bold\\_usage & link\\_usage & avg\\_post\\_length & n\\_posts\\\\\n",
       "\\hline\n",
       "\t JensWilkinson & NA            &         NA    & 3.190782e-06  &  0            &  0            &  0            &  0            & 1            \\\\\n",
       "\t RenamedUser5  & NA            &  0.0000000    & 5.084699e-06  &  0            &  0            &  0            &  3            & 1            \\\\\n",
       "\t Aitias        & NA            &         NA    &           NA  & NA            & NA            & NA            & NA            & 0            \\\\\n",
       "\t Gareon        &  0            &         NA    & 5.665886e-10  &  0            &  0            &  0            &  2            & 1            \\\\\n",
       "\t Bencmq        &  0            & -0.1428571    & 6.624744e-06  &  0            &  0            &  0            &  5            & 2            \\\\\n",
       "\t Altruism      & NA            &  0.0000000    & 6.011933e-06  &  0            &  0            &  0            &  5            & 2            \\\\\n",
       "\\end{tabular}\n"
      ],
      "text/markdown": [
       "\n",
       "user_id | coord_given_univ_agg | coord_received_univ_agg | eigenvector_centrality | italics_usage | bold_usage | link_usage | avg_post_length | n_posts | \n",
       "|---|---|---|---|---|---|\n",
       "| JensWilkinson | NA            |         NA    | 3.190782e-06  |  0            |  0            |  0            |  0            | 1             | \n",
       "| RenamedUser5  | NA            |  0.0000000    | 5.084699e-06  |  0            |  0            |  0            |  3            | 1             | \n",
       "| Aitias        | NA            |         NA    |           NA  | NA            | NA            | NA            | NA            | 0             | \n",
       "| Gareon        |  0            |         NA    | 5.665886e-10  |  0            |  0            |  0            |  2            | 1             | \n",
       "| Bencmq        |  0            | -0.1428571    | 6.624744e-06  |  0            |  0            |  0            |  5            | 2             | \n",
       "| Altruism      | NA            |  0.0000000    | 6.011933e-06  |  0            |  0            |  0            |  5            | 2             | \n",
       "\n",
       "\n"
      ],
      "text/plain": [
       "  user_id       coord_given_univ_agg coord_received_univ_agg\n",
       "1 JensWilkinson NA                           NA             \n",
       "2 RenamedUser5  NA                    0.0000000             \n",
       "3 Aitias        NA                           NA             \n",
       "4 Gareon         0                           NA             \n",
       "5 Bencmq         0                   -0.1428571             \n",
       "6 Altruism      NA                    0.0000000             \n",
       "  eigenvector_centrality italics_usage bold_usage link_usage avg_post_length\n",
       "1 3.190782e-06            0             0          0          0             \n",
       "2 5.084699e-06            0             0          0          3             \n",
       "3           NA           NA            NA         NA         NA             \n",
       "4 5.665886e-10            0             0          0          2             \n",
       "5 6.624744e-06            0             0          0          5             \n",
       "6 6.011933e-06            0             0          0          5             \n",
       "  n_posts\n",
       "1 1      \n",
       "2 1      \n",
       "3 0      \n",
       "4 1      \n",
       "5 2      \n",
       "6 2      "
      ]
     },
     "metadata": {},
     "output_type": "display_data"
    }
   ],
   "source": [
    "d = read.csv(\"../data/wiki/user_data.csv\", header = TRUE)\n",
    "library(lsr)\n",
    "head(d)"
   ]
  },
  {
   "cell_type": "code",
   "execution_count": 38,
   "metadata": {},
   "outputs": [
    {
     "data": {
      "text/plain": [
       "\n",
       "\tSpearman's rank correlation rho\n",
       "\n",
       "data:  d$eigenvector_centrality and d$coord_received_univ_agg\n",
       "S = 8.9218e+11, p-value < 2.2e-16\n",
       "alternative hypothesis: true rho is greater than 0\n",
       "sample estimates:\n",
       "     rho \n",
       "0.189738 \n"
      ]
     },
     "metadata": {},
     "output_type": "display_data"
    }
   ],
   "source": [
    "cor.test(d$eigenvector_centrality, d$coord_received_univ_agg, alternative=\"greater\", method=\"spearman\", exact = FALSE)"
   ]
  },
  {
   "cell_type": "code",
   "execution_count": 39,
   "metadata": {},
   "outputs": [
    {
     "data": {
      "text/plain": [
       "\n",
       "\tSpearman's rank correlation rho\n",
       "\n",
       "data:  d$eigenvector_centrality and d$coord_given_univ_agg\n",
       "S = 3.5665e+11, p-value < 2.2e-16\n",
       "alternative hypothesis: true rho is greater than 0\n",
       "sample estimates:\n",
       "      rho \n",
       "0.1941795 \n"
      ]
     },
     "metadata": {},
     "output_type": "display_data"
    }
   ],
   "source": [
    "cor.test(d$eigenvector_centrality, d$coord_given_univ_agg, alternative=\"greater\", method=\"spearman\", exact = FALSE)"
   ]
  },
  {
   "cell_type": "code",
   "execution_count": 46,
   "metadata": {},
   "outputs": [
    {
     "data": {
      "text/plain": [
       "\n",
       "\tPearson's product-moment correlation\n",
       "\n",
       "data:  d$coord_received and d$link_usage\n",
       "t = -0.62709, df = 20649, p-value = 0.5306\n",
       "alternative hypothesis: true correlation is not equal to 0\n",
       "95 percent confidence interval:\n",
       " -0.018001829  0.009275628\n",
       "sample estimates:\n",
       "         cor \n",
       "-0.004363912 \n"
      ]
     },
     "metadata": {},
     "output_type": "display_data"
    }
   ],
   "source": [
    "cor.test(d$coord_received, d$link_usage)"
   ]
  },
  {
   "cell_type": "code",
   "execution_count": null,
   "metadata": {
    "collapsed": true
   },
   "outputs": [],
   "source": []
  }
 ],
 "metadata": {
  "kernelspec": {
   "display_name": "R",
   "language": "R",
   "name": "ir"
  },
  "language_info": {
   "codemirror_mode": "r",
   "file_extension": ".r",
   "mimetype": "text/x-r-source",
   "name": "R",
   "pygments_lexer": "r",
   "version": "3.2.3"
  }
 },
 "nbformat": 4,
 "nbformat_minor": 2
}
