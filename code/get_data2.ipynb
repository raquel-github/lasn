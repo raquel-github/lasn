{
 "cells": [
  {
   "cell_type": "code",
   "execution_count": 1,
   "metadata": {},
   "outputs": [
    {
     "name": "stderr",
     "output_type": "stream",
     "text": [
      "100%|██████████| 26397/26397 [00:00<00:00, 213031.28it/s]"
     ]
    },
    {
     "name": "stdout",
     "output_type": "stream",
     "text": [
      "Opening pickle...\n",
      "Opening corpus files...\n",
      "Loading users...\n",
      "Loading posts...\n"
     ]
    },
    {
     "name": "stderr",
     "output_type": "stream",
     "text": [
      "\n",
      "100%|██████████| 516766/516766 [00:11<00:00, 46524.62it/s]\n",
      "  0%|          | 121/389121 [00:00<05:25, 1195.99it/s]"
     ]
    },
    {
     "name": "stdout",
     "output_type": "stream",
     "text": [
      "Setting up corpus...\n"
     ]
    },
    {
     "name": "stderr",
     "output_type": "stream",
     "text": [
      "100%|██████████| 389121/389121 [06:55<00:00, 935.45it/s] \n",
      "  2%|▏         | 7944/389121 [00:00<00:04, 79435.91it/s]"
     ]
    },
    {
     "name": "stdout",
     "output_type": "stream",
     "text": [
      "Generating network ...\n"
     ]
    },
    {
     "name": "stderr",
     "output_type": "stream",
     "text": [
      "100%|██████████| 389121/389121 [00:01<00:00, 226432.41it/s]\n"
     ]
    },
    {
     "name": "stdout",
     "output_type": "stream",
     "text": [
      "There were 30356 posts to/from unknown users.\n",
      "The unpruned network has  22495 nodes.\n",
      "Pruning network to its largest component...\n",
      "\t removed 398 users from 192 disconnected components.\n",
      "Normalizing edge weights...\n"
     ]
    }
   ],
   "source": [
    "from wiki import WikiCorpus, PICKLE_FILE, CORPUS_DIR\n",
    "from tqdm import tqdm\n",
    "\n",
    "try:\n",
    "    corpus = WikiCorpus.from_pickle(PICKLE_FILE)\n",
    "except FileNotFoundError:\n",
    "    corpus = WikiCorpus.from_corpus_files()\n",
    "    corpus.generate_network('all_users')\n",
    "    corpus.to_pickle(PICKLE_FILE)"
   ]
  },
  {
   "cell_type": "code",
   "execution_count": 2,
   "metadata": {},
   "outputs": [],
   "source": [
    "import networkx as nx\n",
    "net = corpus.networks['all_users']\n",
    "eigen = nx.eigenvector_centrality_numpy(net)\n",
    "for user in corpus.users.values():\n",
    "    user.data['eigenvector_centrality'] = eigen[user.id] if user.id in eigen else None\n"
   ]
  },
  {
   "cell_type": "markdown",
   "metadata": {},
   "source": [
    "# Calculate coordination measures\n",
    "\n",
    "For a user $b$ and a group of users $A$, let $S^A_b$ be the set of pairs of utterances $(u_a, u_b)$ where $u_b$ is utterd by $b$ in reply to the parent utterance $u_a$, uttered by $a \\in A$ \n",
    "\n",
    "$\\mathcal{E}_m(u)$ means that utterance $u$ exhibits some linguistic marker, $m$.\n",
    "\n",
    "Following *Echoes of Power* we define the coordination of user $b$ towards a group $A$ (the *coordination given* by $b$) as follows:\n",
    "$$\n",
    "C^g_m(A,b) = P\\big[\\mathcal{E}_m(u_b) \\mid \\mathcal{E}_m(u_a) \\land (u_a, u_b) \\in S^A_b\\big] -\n",
    "P\\big[\\mathcal{E}_m(u_b) \\mid (u_a, u_b) \\in S^A_b\\big]\n",
    "$$\n",
    "\n",
    "The probabilities are estimated by counting occurances of $m$ in $S^A_b$:\n",
    "\n",
    "$$\n",
    "C^g_m(A,b) \\approx \\sum_{(u_a,u_b)\\in S^A_b}\\Big({\n",
    "\\frac{[\\mathcal{E}_m(u_a) \\land \\mathcal{E}_m(u_b)]}{[\\mathcal{E}_m(u_a)]} - \n",
    "\\frac{[\\mathcal{E}_m(u_b)]}{1}}  \\Big)\n",
    "$$\n",
    "\n",
    "$C^m(A,b)$ is defined for $m$, $b$ and $A$ where $b$ where $\\{(u_a, u_b) \\in S^A_b \\mid \\mathcal{E}_m(u_a)\\} \\neq \\varnothing $.\n",
    "\n",
    "Likewise, we estimate the coordination of a group $A$ towards a user $b$ (the *coordination received* by $b$) as:\n",
    "\n",
    "$$\n",
    "C^r_m(A,b) \\approx \\sum_{(u_b,u_a)\\in S^b_A}\\Big({\n",
    "\\frac{[\\mathcal{E}_m(u_b) \\land \\mathcal{E}_m(u_a)]}{[\\mathcal{E}_m(u_b)]} - \n",
    "\\frac{[\\mathcal{E}_m(u_a)]}{1}}  \\Big)\n",
    "$$\n",
    "\n",
    "where $S^b_A$ is the set of pairs of utterances where a member of group $A$ is replying to an utteance of user $b$ (note that this is an entirely distinct set from $S^A_b$).\n",
    "\n",
    "As before, $C^r_m(A,b)$ is defined if $\\{(u_b, u_a) \\in S^b_A \\mid \\mathcal{E}_m(u_b)\\} \\neq \\varnothing $\n",
    "\n",
    "In both cases, to aggregate over markers, we take the average of the marker-specific coordination measures for which $C^*_m(A,b)$ is defined."
   ]
  },
  {
   "cell_type": "code",
   "execution_count": 3,
   "metadata": {},
   "outputs": [
    {
     "name": "stderr",
     "output_type": "stream",
     "text": [
      "  0%|          | 78/389121 [00:00<08:27, 766.48it/s]"
     ]
    },
    {
     "name": "stdout",
     "output_type": "stream",
     "text": [
      "Caluclating universal coordination given/received...\n"
     ]
    },
    {
     "name": "stderr",
     "output_type": "stream",
     "text": [
      "100%|██████████| 389121/389121 [05:38<00:00, 1151.08it/s]\n"
     ]
    }
   ],
   "source": [
    "from collections import defaultdict, Counter\n",
    "from util import get_lines\n",
    "\n",
    "markers = ['conjunctions', 'articles', 'prepositions', 'adverbs', 'quantifiers',\n",
    "            'impersonal pronouns', 'personal pronouns', 'auxiliary verbs']\n",
    "\n",
    "# coordination given counts - counting over pairs \n",
    "# (u_a, u_b) where a in A said u_a and b replied with u_b\n",
    "Am_bm = defaultdict(Counter) # count u_a and u_b exhibit m \n",
    "Am_b  = defaultdict(Counter) # count u_a exhibits m\n",
    "A_bm  = defaultdict(Counter) # count u_b exhibits m\n",
    "A_b   = Counter() # count total number of reply pairs (u_a, u_b)\n",
    "\n",
    "# coordination received counts - counting over pairs\n",
    "# (u_b, u_a) where b said u_b and a in A replied with u_a\n",
    "bm_Am = defaultdict(Counter) # count u_b and u_a exhibit m \n",
    "bm_A  = defaultdict(Counter) # count u_b exhibits m\n",
    "b_Am  = defaultdict(Counter) # count u_a exhibits m\n",
    "b_A   = Counter() # count total number of reply pairs (u_b, u_a)\n",
    "\n",
    "def calculate_coordination(A):\n",
    "    \"\"\"\n",
    "    Calculates the coordination users give to / receive from users in group A\n",
    "    \"\"\"\n",
    "    for reply in tqdm(corpus.posts.values()):\n",
    "        reply_user = reply.get_author()\n",
    "        parent = reply.get_parent()\n",
    "        parent_user = parent.get_author() if parent else None\n",
    "        if reply_user and parent_user:\n",
    "            reply_user = reply_user.id\n",
    "            parent_user = parent_user.id\n",
    "        else:\n",
    "            continue\n",
    "        if parent_user in A: # increment coordination given counts\n",
    "            A_b[reply_user] += 1\n",
    "            for m in markers:\n",
    "                if parent.exhibits_marker(m):\n",
    "                    Am_b[reply_user][m] += 1\n",
    "                    if reply.exhibits_marker(m):\n",
    "                        Am_bm[reply_user][m] += 1\n",
    "                if reply.exhibits_marker(m):\n",
    "                    A_bm[reply_user][m] += 1\n",
    "        if reply_user in A: # increment coordination received counts\n",
    "            b_A[parent_user] += 1\n",
    "            for m in markers:\n",
    "                if parent.exhibits_marker(m):\n",
    "                    bm_A[parent_user][m] += 1\n",
    "                    if reply.exhibits_marker(m):\n",
    "                        bm_Am[parent_user][m] += 1\n",
    "                if reply.exhibits_marker(m):\n",
    "                    b_Am[parent_user][m] += 1\n",
    "    coord_given = {b: {m:\n",
    "        (Am_bm[b][m] / Am_b[b][m]) - (A_bm[b][m] / A_b[b]) \n",
    "        if Am_b[b][m] > 0 else None \n",
    "        for m in markers} for b in corpus.users} \n",
    "    coord_received = {b: {m:\n",
    "        (bm_Am[b][m] / bm_A[b][m]) - (b_Am[b][m] / b_A[b])\n",
    "        if bm_A[b][m] > 0 else None \n",
    "        for m in markers} for b in corpus.users}\n",
    "\n",
    "    return coord_given, coord_received\n",
    "\n",
    "print('Caluclating universal coordination given/received...')\n",
    "coord_given_universal, coord_received_universal = calculate_coordination(corpus.users.keys())\n",
    "for user in corpus.users.values():\n",
    "    coord_given = coord_given_universal[user.id]\n",
    "    coord_received = coord_received_universal[user.id]\n",
    "    for m in markers:\n",
    "        user.data['coord_given_univ' + m] = coord_given[m]\n",
    "        user.data['coord_received_univ' + m] = coord_received[m]\n",
    "    given_defined = [coord_given[m] for m in markers if coord_given[m] is not None]\n",
    "    received_defined = [coord_received[m] for m in markers if coord_received[m] is not None]\n",
    "    user.data['coord_given_univ_agg'] = sum(given_defined) / len(given_defined) if given_defined else None\n",
    "\n",
    "    user.data['coord_received_univ_agg'] = sum(received_defined) / len(received_defined) if received_defined else None"
   ]
  },
  {
   "cell_type": "code",
   "execution_count": 17,
   "metadata": {},
   "outputs": [],
   "source": [
    "for post in corpus.posts.values():\n",
    "    post.data['bold'] = False\n",
    "    post.data['italics'] = False\n",
    "    post.data['link'] = False\n",
    "    if re.search(\"''''.+''''\", post.clean_text):\n",
    "        post.data['bold'] = True\n",
    "        post.data['italics'] = True\n",
    "    elif re.search(\"'''.+'''''\", post.clean_text):\n",
    "        post.data['bold'] = True\n",
    "    elif re.search(\"''.+''\", post.clean_text):\n",
    "        post.data['italics'] = True\n",
    "    if re.search(\"[[.+]]\", post.clean_text):\n",
    "        post.data['link'] = True"
   ]
  },
  {
   "cell_type": "code",
   "execution_count": 20,
   "metadata": {},
   "outputs": [],
   "source": [
    "for user in corpus.users.values():\n",
    "    posts = user.get_posts(None)\n",
    "    italics_posts = [post for post in posts if post.data['italics']]\n",
    "    bold_posts = [post for post in posts if post.data['bold']]\n",
    "    link_posts = [post for post in posts if post.data['link']]\n",
    "    user.data['italics_usage'] = len(italics_posts) / len(posts) if posts else None\n",
    "    user.data['bold_usage'] = len(italics_posts) / len(posts) if posts else None\n",
    "    user.data['link_usage'] = len(link_posts) / len(posts) if posts else None\n",
    "    user.data['avg_post_length'] = sum(len(post.tokens) for post in posts) / len(posts) if posts else None\n",
    "    user.data['n_posts'] = len(posts)"
   ]
  },
  {
   "cell_type": "code",
   "execution_count": null,
   "metadata": {
    "collapsed": true
   },
   "outputs": [],
   "source": []
  },
  {
   "cell_type": "code",
   "execution_count": null,
   "metadata": {
    "collapsed": true
   },
   "outputs": [],
   "source": []
  },
  {
   "cell_type": "code",
   "execution_count": null,
   "metadata": {
    "collapsed": true
   },
   "outputs": [],
   "source": []
  },
  {
   "cell_type": "code",
   "execution_count": null,
   "metadata": {
    "collapsed": true
   },
   "outputs": [],
   "source": []
  },
  {
   "cell_type": "code",
   "execution_count": 21,
   "metadata": {
    "collapsed": true
   },
   "outputs": [],
   "source": [
    "data_fields = ['coord_given_univ_agg', 'coord_received_univ_agg', 'eigenvector_centrality',\n",
    "              'italics_usage', 'bold_usage', 'link_usage', 'avg_post_length', 'n_posts']\n",
    "corpus.export_user_data(data_fields, CORPUS_DIR + 'user_data.csv')"
   ]
  },
  {
   "cell_type": "code",
   "execution_count": null,
   "metadata": {},
   "outputs": [],
   "source": []
  },
  {
   "cell_type": "code",
   "execution_count": null,
   "metadata": {
    "collapsed": true
   },
   "outputs": [],
   "source": []
  }
 ],
 "metadata": {
  "kernelspec": {
   "display_name": "Python 3",
   "language": "python",
   "name": "python3"
  },
  "language_info": {
   "codemirror_mode": {
    "name": "ipython",
    "version": 3
   },
   "file_extension": ".py",
   "mimetype": "text/x-python",
   "name": "python",
   "nbconvert_exporter": "python",
   "pygments_lexer": "ipython3",
   "version": "3.5.2"
  }
 },
 "nbformat": 4,
 "nbformat_minor": 2
}
