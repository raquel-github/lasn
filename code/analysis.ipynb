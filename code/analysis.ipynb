{
 "cells": [
  {
   "cell_type": "markdown",
   "metadata": {},
   "source": [
    "# Analysis\n",
    "\n",
    "## Setup"
   ]
  },
  {
   "cell_type": "code",
   "execution_count": 2,
   "metadata": {},
   "outputs": [
    {
     "data": {
      "text/html": [
       "<table>\n",
       "<thead><tr><th scope=col>user_id</th><th scope=col>edit_count</th><th scope=col>gender</th><th scope=col>admin_ascention</th><th scope=col>admin</th><th scope=col>eigen_central</th><th scope=col>eigen_central_bin</th><th scope=col>community</th><th scope=col>coord_given_all</th><th scope=col>coord_received_all</th><th scope=col>coord_given_ingroup</th><th scope=col>coord_received_ingroup</th><th scope=col>post_count</th><th scope=col>italics_freq</th><th scope=col>bold_freq</th><th scope=col>link_freq</th><th scope=col>function_words_freq</th><th scope=col>avg_length_tokens</th></tr></thead>\n",
       "<tbody>\n",
       "\t<tr><td>K-F.U.N 2       </td><td> 165            </td><td>male            </td><td>                </td><td>False           </td><td>3.761916e-07    </td><td>False           </td><td>0               </td><td>       NaN      </td><td>    NaN         </td><td>NA              </td><td>NA              </td><td>1               </td><td>NA              </td><td>NA              </td><td>       NA       </td><td>      NA        </td><td>1.000000        </td></tr>\n",
       "\t<tr><td>JFreeman        </td><td>9270            </td><td>unknown         </td><td>                </td><td>False           </td><td>1.671275e-03    </td><td>False           </td><td>1               </td><td>       NaN      </td><td>0.00000         </td><td>NA              </td><td>NA              </td><td>1               </td><td>NA              </td><td>NA              </td><td>       NA       </td><td>28.00000        </td><td>4.000000        </td></tr>\n",
       "\t<tr><td>Extcetc         </td><td>  27            </td><td>unknown         </td><td>                </td><td>False           </td><td>4.017304e-06    </td><td>False           </td><td>2               </td><td>       NaN      </td><td>0.00000         </td><td>NA              </td><td>NA              </td><td>1               </td><td>NA              </td><td>NA              </td><td>       NA       </td><td> 4.00000        </td><td>2.000000        </td></tr>\n",
       "\t<tr><td>Merteselle      </td><td> 295            </td><td>unknown         </td><td>                </td><td>False           </td><td>4.261994e-08    </td><td>False           </td><td>3               </td><td>       NaN      </td><td>0.00000         </td><td>NA              </td><td>NA              </td><td>1               </td><td>NA              </td><td>NA              </td><td>       NA       </td><td> 2.00000        </td><td>2.000000        </td></tr>\n",
       "\t<tr><td>The Sunshine Man</td><td>   0            </td><td>unknown         </td><td>                </td><td>False           </td><td>6.056635e-07    </td><td>False           </td><td>9               </td><td>0.00000000      </td><td>0.00000         </td><td>NA              </td><td>NA              </td><td>3               </td><td>NA              </td><td>NA              </td><td>       NA       </td><td>27.33333        </td><td>3.333333        </td></tr>\n",
       "\t<tr><td>Kuebie          </td><td>1607            </td><td>unknown         </td><td>                </td><td>False           </td><td>5.176361e-05    </td><td>False           </td><td>5               </td><td>0.08333333      </td><td>0.11875         </td><td>NA              </td><td>NA              </td><td>9               </td><td>NA              </td><td>NA              </td><td>0.1111111       </td><td>23.77778        </td><td>4.000000        </td></tr>\n",
       "</tbody>\n",
       "</table>\n"
      ],
      "text/latex": [
       "\\begin{tabular}{r|llllllllllllllllll}\n",
       " user\\_id & edit\\_count & gender & admin\\_ascention & admin & eigen\\_central & eigen\\_central\\_bin & community & coord\\_given\\_all & coord\\_received\\_all & coord\\_given\\_ingroup & coord\\_received\\_ingroup & post\\_count & italics\\_freq & bold\\_freq & link\\_freq & function\\_words\\_freq & avg\\_length\\_tokens\\\\\n",
       "\\hline\n",
       "\t K-F.U.N 2        &  165             & male             &                  & False            & 3.761916e-07     & False            & 0                &        NaN       &     NaN          & NA               & NA               & 1                & NA               & NA               &        NA        &       NA         & 1.000000        \\\\\n",
       "\t JFreeman         & 9270             & unknown          &                  & False            & 1.671275e-03     & False            & 1                &        NaN       & 0.00000          & NA               & NA               & 1                & NA               & NA               &        NA        & 28.00000         & 4.000000        \\\\\n",
       "\t Extcetc          &   27             & unknown          &                  & False            & 4.017304e-06     & False            & 2                &        NaN       & 0.00000          & NA               & NA               & 1                & NA               & NA               &        NA        &  4.00000         & 2.000000        \\\\\n",
       "\t Merteselle       &  295             & unknown          &                  & False            & 4.261994e-08     & False            & 3                &        NaN       & 0.00000          & NA               & NA               & 1                & NA               & NA               &        NA        &  2.00000         & 2.000000        \\\\\n",
       "\t The Sunshine Man &    0             & unknown          &                  & False            & 6.056635e-07     & False            & 9                & 0.00000000       & 0.00000          & NA               & NA               & 3                & NA               & NA               &        NA        & 27.33333         & 3.333333        \\\\\n",
       "\t Kuebie           & 1607             & unknown          &                  & False            & 5.176361e-05     & False            & 5                & 0.08333333       & 0.11875          & NA               & NA               & 9                & NA               & NA               & 0.1111111        & 23.77778         & 4.000000        \\\\\n",
       "\\end{tabular}\n"
      ],
      "text/markdown": [
       "\n",
       "user_id | edit_count | gender | admin_ascention | admin | eigen_central | eigen_central_bin | community | coord_given_all | coord_received_all | coord_given_ingroup | coord_received_ingroup | post_count | italics_freq | bold_freq | link_freq | function_words_freq | avg_length_tokens | \n",
       "|---|---|---|---|---|---|\n",
       "| K-F.U.N 2        |  165             | male             |                  | False            | 3.761916e-07     | False            | 0                |        NaN       |     NaN          | NA               | NA               | 1                | NA               | NA               |        NA        |       NA         | 1.000000         | \n",
       "| JFreeman         | 9270             | unknown          |                  | False            | 1.671275e-03     | False            | 1                |        NaN       | 0.00000          | NA               | NA               | 1                | NA               | NA               |        NA        | 28.00000         | 4.000000         | \n",
       "| Extcetc          |   27             | unknown          |                  | False            | 4.017304e-06     | False            | 2                |        NaN       | 0.00000          | NA               | NA               | 1                | NA               | NA               |        NA        |  4.00000         | 2.000000         | \n",
       "| Merteselle       |  295             | unknown          |                  | False            | 4.261994e-08     | False            | 3                |        NaN       | 0.00000          | NA               | NA               | 1                | NA               | NA               |        NA        |  2.00000         | 2.000000         | \n",
       "| The Sunshine Man |    0             | unknown          |                  | False            | 6.056635e-07     | False            | 9                | 0.00000000       | 0.00000          | NA               | NA               | 3                | NA               | NA               |        NA        | 27.33333         | 3.333333         | \n",
       "| Kuebie           | 1607             | unknown          |                  | False            | 5.176361e-05     | False            | 5                | 0.08333333       | 0.11875          | NA               | NA               | 9                | NA               | NA               | 0.1111111        | 23.77778         | 4.000000         | \n",
       "\n",
       "\n"
      ],
      "text/plain": [
       "  user_id          edit_count gender  admin_ascention admin eigen_central\n",
       "1 K-F.U.N 2         165       male                    False 3.761916e-07 \n",
       "2 JFreeman         9270       unknown                 False 1.671275e-03 \n",
       "3 Extcetc            27       unknown                 False 4.017304e-06 \n",
       "4 Merteselle        295       unknown                 False 4.261994e-08 \n",
       "5 The Sunshine Man    0       unknown                 False 6.056635e-07 \n",
       "6 Kuebie           1607       unknown                 False 5.176361e-05 \n",
       "  eigen_central_bin community coord_given_all coord_received_all\n",
       "1 False             0                NaN          NaN           \n",
       "2 False             1                NaN      0.00000           \n",
       "3 False             2                NaN      0.00000           \n",
       "4 False             3                NaN      0.00000           \n",
       "5 False             9         0.00000000      0.00000           \n",
       "6 False             5         0.08333333      0.11875           \n",
       "  coord_given_ingroup coord_received_ingroup post_count italics_freq bold_freq\n",
       "1 NA                  NA                     1          NA           NA       \n",
       "2 NA                  NA                     1          NA           NA       \n",
       "3 NA                  NA                     1          NA           NA       \n",
       "4 NA                  NA                     1          NA           NA       \n",
       "5 NA                  NA                     3          NA           NA       \n",
       "6 NA                  NA                     9          NA           NA       \n",
       "  link_freq function_words_freq avg_length_tokens\n",
       "1        NA       NA            1.000000         \n",
       "2        NA 28.00000            4.000000         \n",
       "3        NA  4.00000            2.000000         \n",
       "4        NA  2.00000            2.000000         \n",
       "5        NA 27.33333            3.333333         \n",
       "6 0.1111111 23.77778            4.000000         "
      ]
     },
     "metadata": {},
     "output_type": "display_data"
    }
   ],
   "source": [
    "d = read.csv(\"../data/wiki/user_data.csv\", header = TRUE)\n",
    "library(lsr)\n",
    "head(d)"
   ]
  },
  {
   "cell_type": "code",
   "execution_count": 3,
   "metadata": {
    "collapsed": true
   },
   "outputs": [],
   "source": [
    "d.admin <- subset(d, admin == \"True\")\n",
    "d.nonadmin <- subset(d, admin == \"False\")\n",
    "d.higheigen <- subset(d, eigen_central_bin == \"True\")\n",
    "d.loweigen <- subset(d, eigen_central_bin == \"False\")"
   ]
  },
  {
   "cell_type": "markdown",
   "metadata": {},
   "source": [
    "## Replicating *Centre Stage* results\n",
    "\n",
    "Relationship between power (adminship & centrality) and coordination."
   ]
  },
  {
   "cell_type": "code",
   "execution_count": 4,
   "metadata": {},
   "outputs": [
    {
     "data": {
      "text/plain": [
       "\n",
       "\tSpearman's rank correlation rho\n",
       "\n",
       "data:  d$eigen_central and d$coord_received_all\n",
       "S = 8.921e+11, p-value < 2.2e-16\n",
       "alternative hypothesis: true rho is greater than 0\n",
       "sample estimates:\n",
       "      rho \n",
       "0.1898093 \n"
      ]
     },
     "metadata": {},
     "output_type": "display_data"
    }
   ],
   "source": [
    "# Coordination received vs. eigenvector centrality\n",
    "cor.test(d$eigen_central, d$coord_received_all, alternative=\"greater\", method=\"spearman\", exact = FALSE)"
   ]
  },
  {
   "cell_type": "code",
   "execution_count": 6,
   "metadata": {},
   "outputs": [
    {
     "data": {
      "text/plain": [
       "\n",
       "\tWelch Two Sample t-test\n",
       "\n",
       "data:  d.admin$coord_received_all and d.higheigen$coord_received_all\n",
       "t = -0.99532, df = 412.59, p-value = 0.3202\n",
       "alternative hypothesis: true difference in means is not equal to 0\n",
       "95 percent confidence interval:\n",
       " -0.008057243  0.002640557\n",
       "sample estimates:\n",
       " mean of x  mean of y \n",
       "0.01898618 0.02169453 \n"
      ]
     },
     "metadata": {},
     "output_type": "display_data"
    }
   ],
   "source": [
    "t.test(d.admin$coord_received_all, d.higheigen$coord_received_all)"
   ]
  },
  {
   "cell_type": "markdown",
   "metadata": {},
   "source": [
    "## Ingroup / outgroup coordination"
   ]
  },
  {
   "cell_type": "code",
   "execution_count": 7,
   "metadata": {},
   "outputs": [
    {
     "data": {
      "text/plain": [
       "\n",
       "\tWelch Two Sample t-test\n",
       "\n",
       "data:  d$coord_given_all and d$coord_given_ingroup\n",
       "t = -1.0902, df = 343.58, p-value = 0.2764\n",
       "alternative hypothesis: true difference in means is not equal to 0\n",
       "95 percent confidence interval:\n",
       " -0.01283783  0.00368176\n",
       "sample estimates:\n",
       "  mean of x   mean of y \n",
       "0.005561945 0.010139981 \n"
      ]
     },
     "metadata": {},
     "output_type": "display_data"
    }
   ],
   "source": [
    "t.test(d$coord_given_all, d$coord_given_ingroup)\n"
   ]
  },
  {
   "cell_type": "code",
   "execution_count": 8,
   "metadata": {},
   "outputs": [
    {
     "data": {
      "text/plain": [
       "\n",
       "\tWelch Two Sample t-test\n",
       "\n",
       "data:  d$coord_received_all and d$coord_received_ingroup\n",
       "t = 0.90586, df = 542.45, p-value = 0.3654\n",
       "alternative hypothesis: true difference in means is not equal to 0\n",
       "95 percent confidence interval:\n",
       " -0.002468075  0.006692489\n",
       "sample estimates:\n",
       "  mean of x   mean of y \n",
       "0.006075535 0.003963327 \n"
      ]
     },
     "metadata": {},
     "output_type": "display_data"
    }
   ],
   "source": [
    "t.test(d$coord_received_all, d$coord_received_ingroup)"
   ]
  },
  {
   "cell_type": "markdown",
   "metadata": {},
   "source": [
    "# Social power & linguistic style"
   ]
  },
  {
   "cell_type": "code",
   "execution_count": 9,
   "metadata": {},
   "outputs": [
    {
     "data": {
      "text/plain": [
       "\n",
       "\tWelch Two Sample t-test\n",
       "\n",
       "data:  d.admin$avg_length_tokens and d.nonadmin$avg_length_tokens\n",
       "t = 5.7325, df = 2998.1, p-value = 1.088e-08\n",
       "alternative hypothesis: true difference in means is not equal to 0\n",
       "95 percent confidence interval:\n",
       " 0.09953836 0.20302950\n",
       "sample estimates:\n",
       "mean of x mean of y \n",
       " 3.228846  3.077562 \n"
      ]
     },
     "metadata": {},
     "output_type": "display_data"
    },
    {
     "data": {
      "text/plain": [
       "\n",
       "\tWelch Two Sample t-test\n",
       "\n",
       "data:  d.higheigen$avg_length_tokens and d.loweigen$avg_length_tokens\n",
       "t = 3.6608, df = 206.98, p-value = 0.0003192\n",
       "alternative hypothesis: true difference in means is not equal to 0\n",
       "95 percent confidence interval:\n",
       " 0.1299045 0.4331084\n",
       "sample estimates:\n",
       "mean of x mean of y \n",
       " 3.366401  3.084895 \n"
      ]
     },
     "metadata": {},
     "output_type": "display_data"
    }
   ],
   "source": [
    "t.test(d.admin$avg_length_tokens, d.nonadmin$avg_length_tokens)\n",
    "t.test(d.higheigen$avg_length_tokens, d.loweigen$avg_length_tokens)"
   ]
  },
  {
   "cell_type": "code",
   "execution_count": 10,
   "metadata": {},
   "outputs": [
    {
     "data": {
      "text/plain": [
       "\n",
       "\tWelch Two Sample t-test\n",
       "\n",
       "data:  d.admin$italics_freq and d.nonadmin$italics_freq\n",
       "t = -27.07, df = 3130.7, p-value < 2.2e-16\n",
       "alternative hypothesis: true difference in means is not equal to 0\n",
       "95 percent confidence interval:\n",
       " -0.1722308 -0.1489658\n",
       "sample estimates:\n",
       "mean of x mean of y \n",
       "0.1459422 0.3065405 \n"
      ]
     },
     "metadata": {},
     "output_type": "display_data"
    },
    {
     "data": {
      "text/plain": [
       "\n",
       "\tWelch Two Sample t-test\n",
       "\n",
       "data:  d.higheigen$italics_freq and d.loweigen$italics_freq\n",
       "t = -15.736, df = 226.93, p-value < 2.2e-16\n",
       "alternative hypothesis: true difference in means is not equal to 0\n",
       "95 percent confidence interval:\n",
       " -0.1691757 -0.1315231\n",
       "sample estimates:\n",
       "mean of x mean of y \n",
       "0.1132400 0.2635894 \n"
      ]
     },
     "metadata": {},
     "output_type": "display_data"
    }
   ],
   "source": [
    "t.test(d.admin$italics_freq, d.nonadmin$italics_freq)\n",
    "t.test(d.higheigen$italics_freq, d.loweigen$italics_freq)"
   ]
  },
  {
   "cell_type": "code",
   "execution_count": 11,
   "metadata": {},
   "outputs": [
    {
     "data": {
      "text/plain": [
       "\n",
       "\tWelch Two Sample t-test\n",
       "\n",
       "data:  d.admin$bold_freq and d.nonadmin$bold_freq\n",
       "t = -2.7144, df = 168.98, p-value = 0.007329\n",
       "alternative hypothesis: true difference in means is not equal to 0\n",
       "95 percent confidence interval:\n",
       " -0.13496216 -0.02130944\n",
       "sample estimates:\n",
       "mean of x mean of y \n",
       "0.1026712 0.1808070 \n"
      ]
     },
     "metadata": {},
     "output_type": "display_data"
    },
    {
     "data": {
      "text/plain": [
       "\n",
       "\tWelch Two Sample t-test\n",
       "\n",
       "data:  d.higheigen$bold_freq and d.loweigen$bold_freq\n",
       "t = -9.3721, df = 301.14, p-value < 2.2e-16\n",
       "alternative hypothesis: true difference in means is not equal to 0\n",
       "95 percent confidence interval:\n",
       " -0.1809507 -0.1181483\n",
       "sample estimates:\n",
       " mean of x  mean of y \n",
       "0.01554881 0.16509832 \n"
      ]
     },
     "metadata": {},
     "output_type": "display_data"
    }
   ],
   "source": [
    "t.test(d.admin$bold_freq, d.nonadmin$bold_freq)\n",
    "t.test(d.higheigen$bold_freq, d.loweigen$bold_freq)"
   ]
  },
  {
   "cell_type": "code",
   "execution_count": 12,
   "metadata": {},
   "outputs": [
    {
     "data": {
      "text/plain": [
       "\n",
       "\tWelch Two Sample t-test\n",
       "\n",
       "data:  d.admin$link_freq and d.nonadmin$link_freq\n",
       "t = -9.6584, df = 800, p-value < 2.2e-16\n",
       "alternative hypothesis: true difference in means is not equal to 0\n",
       "95 percent confidence interval:\n",
       " -0.12999727 -0.08608217\n",
       "sample estimates:\n",
       " mean of x  mean of y \n",
       "0.03408172 0.14212144 \n"
      ]
     },
     "metadata": {},
     "output_type": "display_data"
    },
    {
     "data": {
      "text/plain": [
       "\n",
       "\tWelch Two Sample t-test\n",
       "\n",
       "data:  d.higheigen$link_freq and d.loweigen$link_freq\n",
       "t = -10.81, df = 697.03, p-value < 2.2e-16\n",
       "alternative hypothesis: true difference in means is not equal to 0\n",
       "95 percent confidence interval:\n",
       " -0.10907081 -0.07554059\n",
       "sample estimates:\n",
       " mean of x  mean of y \n",
       "0.01707753 0.10938323 \n"
      ]
     },
     "metadata": {},
     "output_type": "display_data"
    }
   ],
   "source": [
    "t.test(d.admin$link_freq, d.nonadmin$link_freq)\n",
    "t.test(d.higheigen$link_freq, d.loweigen$link_freq)"
   ]
  },
  {
   "cell_type": "code",
   "execution_count": null,
   "metadata": {
    "collapsed": true
   },
   "outputs": [],
   "source": []
  }
 ],
 "metadata": {
  "kernelspec": {
   "display_name": "R",
   "language": "R",
   "name": "ir"
  },
  "language_info": {
   "codemirror_mode": "r",
   "file_extension": ".r",
   "mimetype": "text/x-r-source",
   "name": "R",
   "pygments_lexer": "r",
   "version": "3.2.3"
  }
 },
 "nbformat": 4,
 "nbformat_minor": 2
}
