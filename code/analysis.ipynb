{
 "cells": [
  {
   "cell_type": "markdown",
   "metadata": {},
   "source": [
    "# User statistics\n",
    "\n",
    "- `eigen_central` - the user's eigenvector centrality on the aggrigate network (all years)\n",
    "- `eigen_central_bin` - True if eigen_central is 1 stddev above the mean\n",
    "- `avg_perplexity` - the mean perplexity of all the user's utterances (based on the aggigate (all years) LM\n",
    "- `n_utts` - total number of uttrances by the user in the corpus\n",
    "- `admin status` - the user's admin status (at time of corpus collection)\n",
    "\n",
    "**Questions:** \n",
    "\n",
    "1. What effect does social power have on utterance perplexity? Do users with a high degree of social power (adminship, centrality) speak more or less typcially than those with low social power?\n",
    "2. Is that effect independent of the fact that users with high social power tend to speak more than those with low social power (and so have a greater effect on what is considered typcial)?"
   ]
  },
  {
   "cell_type": "code",
   "execution_count": 31,
   "metadata": {},
   "outputs": [
    {
     "data": {
      "text/html": [
       "<table>\n",
       "<thead><tr><th scope=col>user_id</th><th scope=col>eigen_central</th><th scope=col>eigen_central_bin</th><th scope=col>avg_perplexity</th><th scope=col>n_utts</th><th scope=col>admin_status</th></tr></thead>\n",
       "<tbody>\n",
       "\t<tr><td>Callcentermonkey  </td><td>0.0001794088      </td><td>False             </td><td>  934.2034        </td><td> 1                </td><td>False             </td></tr>\n",
       "\t<tr><td>Lilaac            </td><td>0.0002096814      </td><td>False             </td><td>  610.2390        </td><td> 2                </td><td>False             </td></tr>\n",
       "\t<tr><td>IceCreamAntisocial</td><td>0.0015041252      </td><td>False             </td><td>44880.5927        </td><td> 6                </td><td>False             </td></tr>\n",
       "\t<tr><td>Waygugin          </td><td>0.0012780205      </td><td>False             </td><td>  160.8186        </td><td> 1                </td><td>False             </td></tr>\n",
       "\t<tr><td>Garyvdm           </td><td>0.0004765608      </td><td>False             </td><td>   59.3016        </td><td> 2                </td><td>False             </td></tr>\n",
       "\t<tr><td>Nanobear          </td><td>0.0031741023      </td><td>False             </td><td> 4016.5541        </td><td>27                </td><td>False             </td></tr>\n",
       "</tbody>\n",
       "</table>\n"
      ],
      "text/latex": [
       "\\begin{tabular}{r|llllll}\n",
       " user\\_id & eigen\\_central & eigen\\_central\\_bin & avg\\_perplexity & n\\_utts & admin\\_status\\\\\n",
       "\\hline\n",
       "\t Callcentermonkey   & 0.0001794088       & False              &   934.2034         &  1                 & False             \\\\\n",
       "\t Lilaac             & 0.0002096814       & False              &   610.2390         &  2                 & False             \\\\\n",
       "\t IceCreamAntisocial & 0.0015041252       & False              & 44880.5927         &  6                 & False             \\\\\n",
       "\t Waygugin           & 0.0012780205       & False              &   160.8186         &  1                 & False             \\\\\n",
       "\t Garyvdm            & 0.0004765608       & False              &    59.3016         &  2                 & False             \\\\\n",
       "\t Nanobear           & 0.0031741023       & False              &  4016.5541         & 27                 & False             \\\\\n",
       "\\end{tabular}\n"
      ],
      "text/markdown": [
       "\n",
       "user_id | eigen_central | eigen_central_bin | avg_perplexity | n_utts | admin_status | \n",
       "|---|---|---|---|---|---|\n",
       "| Callcentermonkey   | 0.0001794088       | False              |   934.2034         |  1                 | False              | \n",
       "| Lilaac             | 0.0002096814       | False              |   610.2390         |  2                 | False              | \n",
       "| IceCreamAntisocial | 0.0015041252       | False              | 44880.5927         |  6                 | False              | \n",
       "| Waygugin           | 0.0012780205       | False              |   160.8186         |  1                 | False              | \n",
       "| Garyvdm            | 0.0004765608       | False              |    59.3016         |  2                 | False              | \n",
       "| Nanobear           | 0.0031741023       | False              |  4016.5541         | 27                 | False              | \n",
       "\n",
       "\n"
      ],
      "text/plain": [
       "  user_id            eigen_central eigen_central_bin avg_perplexity n_utts\n",
       "1 Callcentermonkey   0.0001794088  False               934.2034      1    \n",
       "2 Lilaac             0.0002096814  False               610.2390      2    \n",
       "3 IceCreamAntisocial 0.0015041252  False             44880.5927      6    \n",
       "4 Waygugin           0.0012780205  False               160.8186      1    \n",
       "5 Garyvdm            0.0004765608  False                59.3016      2    \n",
       "6 Nanobear           0.0031741023  False              4016.5541     27    \n",
       "  admin_status\n",
       "1 False       \n",
       "2 False       \n",
       "3 False       \n",
       "4 False       \n",
       "5 False       \n",
       "6 False       "
      ]
     },
     "metadata": {},
     "output_type": "display_data"
    }
   ],
   "source": [
    "d = read.csv(\"../data/user_stats.csv\", header = TRUE)\n",
    "library(lsr)\n",
    "head(d)"
   ]
  },
  {
   "cell_type": "code",
   "execution_count": 32,
   "metadata": {},
   "outputs": [
    {
     "data": {
      "text/plain": [
       "\n",
       "\tWelch Two Sample t-test\n",
       "\n",
       "data:  d.admin$eigen_central and d.nonadmin$eigen_central\n",
       "t = 26.739, df = 1833.4, p-value < 2.2e-16\n",
       "alternative hypothesis: true difference in means is not equal to 0\n",
       "95 percent confidence interval:\n",
       " 0.008564153 0.009919943\n",
       "sample estimates:\n",
       "  mean of x   mean of y \n",
       "0.010561229 0.001319182 \n"
      ]
     },
     "metadata": {},
     "output_type": "display_data"
    }
   ],
   "source": [
    "# Split the data into admin/non-admin\n",
    "d.admin <- subset(d, admin_status == \"True\")\n",
    "d.nonadmin <- subset(d, admin_status == \"False\")\n",
    "\n",
    "# Sanity check: Test for differences in eigenvector centrality for admin/non-admin\n",
    "t.test(d.admin$eigen_central, d.nonadmin$eigen_central)"
   ]
  },
  {
   "cell_type": "markdown",
   "metadata": {},
   "source": [
    "**Result:** As expected admins tend to be more central than non-admins (p < 0.01)"
   ]
  },
  {
   "cell_type": "markdown",
   "metadata": {},
   "source": [
    "## Social power <> perplexity"
   ]
  },
  {
   "cell_type": "code",
   "execution_count": 41,
   "metadata": {},
   "outputs": [
    {
     "data": {
      "text/plain": [
       "\n",
       "\tWelch Two Sample t-test\n",
       "\n",
       "data:  d.admin$avg_perplexity and d.nonadmin$avg_perplexity\n",
       "t = 3.5704, df = 2716, p-value = 0.0003626\n",
       "alternative hypothesis: true difference in means is not equal to 0\n",
       "95 percent confidence interval:\n",
       " 1407.837 4837.970\n",
       "sample estimates:\n",
       "mean of x mean of y \n",
       " 16655.45  13532.55 \n"
      ]
     },
     "metadata": {},
     "output_type": "display_data"
    },
    {
     "name": "stdout",
     "output_type": "stream",
     "text": [
      "Cohen's D: 0.05035177NULL\n"
     ]
    }
   ],
   "source": [
    "t.test(d.admin$avg_perplexity, d.nonadmin$avg_perplexity)\n",
    "print(cat(\"Cohen's D:\", cohensD(d.admin$avg_perplexity, d.nonadmin$avg_perplexity)))"
   ]
  },
  {
   "cell_type": "markdown",
   "metadata": {},
   "source": [
    "**Surprising result:** Admins have a higher average perplexity than non-admins"
   ]
  },
  {
   "cell_type": "code",
   "execution_count": 42,
   "metadata": {},
   "outputs": [
    {
     "data": {
      "text/plain": [
       "\n",
       "\tWelch Two Sample t-test\n",
       "\n",
       "data:  d.hcentral$avg_perplexity and d.lcentral$avg_perplexity\n",
       "t = 5.4603, df = 2473.5, p-value = 5.229e-08\n",
       "alternative hypothesis: true difference in means is not equal to 0\n",
       "95 percent confidence interval:\n",
       " 2930.595 6215.039\n",
       "sample estimates:\n",
       "mean of x mean of y \n",
       " 18052.07  13479.25 \n"
      ]
     },
     "metadata": {},
     "output_type": "display_data"
    },
    {
     "name": "stdout",
     "output_type": "stream",
     "text": [
      "Cohen's D: 0.073734NULL\n"
     ]
    }
   ],
   "source": [
    "# Split the data into high centrality/low centrality\n",
    "d.hcentral <- subset(d, eigen_central_bin == \"True\")\n",
    "d.lcentral <- subset(d, eigen_central_bin == \"False\")\n",
    "\n",
    "# Test for differences in perplexity for high/low centrality\n",
    "t.test(d.hcentral$avg_perplexity, d.lcentral$avg_perplexity)\n",
    "print(cat(\"Cohen's D:\", cohensD(d.hcentral$avg_perplexity, d.lcentral$avg_perplexity)))"
   ]
  },
  {
   "cell_type": "markdown",
   "metadata": {},
   "source": [
    "**Result:** Likewise, highly central users have a higher perplexity than low-centrality users (p < 0.01). This time with an even higher effect size than adminship. "
   ]
  },
  {
   "cell_type": "markdown",
   "metadata": {},
   "source": [
    "## Controling for number of utterances"
   ]
  },
  {
   "cell_type": "code",
   "execution_count": 11,
   "metadata": {},
   "outputs": [
    {
     "data": {
      "text/html": [
       "<table>\n",
       "<thead><tr><th scope=col>estimate</th><th scope=col>p.value</th><th scope=col>statistic</th><th scope=col>n</th><th scope=col>gp</th><th scope=col>Method</th></tr></thead>\n",
       "<tbody>\n",
       "\t<tr><td>0.01469958</td><td>0.01012236</td><td>2.571781  </td><td>30606     </td><td>1         </td><td>pearson   </td></tr>\n",
       "</tbody>\n",
       "</table>\n"
      ],
      "text/latex": [
       "\\begin{tabular}{r|llllll}\n",
       " estimate & p.value & statistic & n & gp & Method\\\\\n",
       "\\hline\n",
       "\t 0.01469958 & 0.01012236 & 2.571781   & 30606      & 1          & pearson   \\\\\n",
       "\\end{tabular}\n"
      ],
      "text/markdown": [
       "\n",
       "estimate | p.value | statistic | n | gp | Method | \n",
       "|---|\n",
       "| 0.01469958 | 0.01012236 | 2.571781   | 30606      | 1          | pearson    | \n",
       "\n",
       "\n"
      ],
      "text/plain": [
       "  estimate   p.value    statistic n     gp Method \n",
       "1 0.01469958 0.01012236 2.571781  30606 1  pearson"
      ]
     },
     "metadata": {},
     "output_type": "display_data"
    }
   ],
   "source": [
    "library(MASS)\n",
    "library(ppcor)\n",
    "\n",
    "pcor.test(d$eigen_central, d$avg_perplexity, d$n_utts)"
   ]
  },
  {
   "cell_type": "markdown",
   "metadata": {},
   "source": [
    "**Result:** Further confirming the centrality-perplexity relationship, we correlate avegage perplexity with Eigenvector centrality while controling for the number of utterances."
   ]
  },
  {
   "cell_type": "markdown",
   "metadata": {
    "collapsed": true
   },
   "source": [
    "# Utterance statistics\n",
    "The `utt_stats` table takes time into account better than the user aggegate statistics. It uses a distinct language model and user network for each year (possible improvement is to build a language model and network for each month using data from the surrounding year).\n",
    "\n",
    "- `perplexity_overall` - the utterance's perplexity under the LM considering the whole corpus\n",
    "- `perplexity_year` - the utterance's perplexity under the LM built on just that year's posts\n",
    "- `admin_status` - the admin status of the user _at the time of the utterance_\n",
    "- `eigen_central` - the user's Eigenvector centrality in the network for the year in which the utterance occured\n",
    "- `eigen_central_bin` - if the above is > 1 stddev above the mean for the relevant network\n",
    "- `utt_rank` - the order of this utterance among all the user's posts\n",
    "- `days_since_first` - number of days after the user's first utterance in the corpus this was posted\n",
    "\n",
    "**Questions:**\n",
    "\n",
    "1. Does the positive correlation between a particular utterance's perplexity and social power hold when you consider the user's social power _at the time of utterance_ (as opposed to avegare perplexity over all a user's utterances).\n",
    "2. How does the perplexity of a user's utterances change over time?\n",
    "3. Is there a relationship between a user's social power and how \"in vogue\" a user's speach is"
   ]
  },
  {
   "cell_type": "code",
   "execution_count": 44,
   "metadata": {},
   "outputs": [
    {
     "data": {
      "text/html": [
       "<table>\n",
       "<thead><tr><th scope=col>utt_id</th><th scope=col>timestamp</th><th scope=col>perplexity_overall</th><th scope=col>perplexity_year</th><th scope=col>admin_status</th><th scope=col>eigen_central</th><th scope=col>eigen_central_bin</th><th scope=col>utt_rank</th><th scope=col>days_since_first</th></tr></thead>\n",
       "<tbody>\n",
       "\t<tr><td>287147             </td><td>2007-03-16T22:12:00</td><td>  1376.2694        </td><td>  697.7685         </td><td>True               </td><td>0.03237486         </td><td>True               </td><td>36                 </td><td>490                </td></tr>\n",
       "\t<tr><td>287140             </td><td>2007-03-04T16:53:00</td><td> 38340.6516        </td><td>40099.9372         </td><td>False              </td><td>0.02374293         </td><td>True               </td><td>16                 </td><td> 83                </td></tr>\n",
       "\t<tr><td>287141             </td><td>2007-03-04T17:32:00</td><td>   750.8304        </td><td>  424.0806         </td><td>False              </td><td>0.02374293         </td><td>True               </td><td>17                 </td><td> 83                </td></tr>\n",
       "\t<tr><td>287142             </td><td>2007-03-04T18:07:00</td><td>  1480.6781        </td><td>  838.8531         </td><td>False              </td><td>0.02374293         </td><td>True               </td><td>18                 </td><td> 83                </td></tr>\n",
       "\t<tr><td>287148             </td><td>2007-03-16T23:01:00</td><td>135209.1003        </td><td>50269.7057         </td><td>True               </td><td>0.03237486         </td><td>True               </td><td>37                 </td><td>490                </td></tr>\n",
       "\t<tr><td>287149             </td><td>2007-03-17T08:44:00</td><td>  1134.0916        </td><td>  847.2260         </td><td>True               </td><td>0.03237486         </td><td>True               </td><td>38                 </td><td>491                </td></tr>\n",
       "</tbody>\n",
       "</table>\n"
      ],
      "text/latex": [
       "\\begin{tabular}{r|lllllllll}\n",
       " utt\\_id & timestamp & perplexity\\_overall & perplexity\\_year & admin\\_status & eigen\\_central & eigen\\_central\\_bin & utt\\_rank & days\\_since\\_first\\\\\n",
       "\\hline\n",
       "\t 287147              & 2007-03-16T22:12:00 &   1376.2694         &   697.7685          & True                & 0.03237486          & True                & 36                  & 490                \\\\\n",
       "\t 287140              & 2007-03-04T16:53:00 &  38340.6516         & 40099.9372          & False               & 0.02374293          & True                & 16                  &  83                \\\\\n",
       "\t 287141              & 2007-03-04T17:32:00 &    750.8304         &   424.0806          & False               & 0.02374293          & True                & 17                  &  83                \\\\\n",
       "\t 287142              & 2007-03-04T18:07:00 &   1480.6781         &   838.8531          & False               & 0.02374293          & True                & 18                  &  83                \\\\\n",
       "\t 287148              & 2007-03-16T23:01:00 & 135209.1003         & 50269.7057          & True                & 0.03237486          & True                & 37                  & 490                \\\\\n",
       "\t 287149              & 2007-03-17T08:44:00 &   1134.0916         &   847.2260          & True                & 0.03237486          & True                & 38                  & 491                \\\\\n",
       "\\end{tabular}\n"
      ],
      "text/markdown": [
       "\n",
       "utt_id | timestamp | perplexity_overall | perplexity_year | admin_status | eigen_central | eigen_central_bin | utt_rank | days_since_first | \n",
       "|---|---|---|---|---|---|\n",
       "| 287147              | 2007-03-16T22:12:00 |   1376.2694         |   697.7685          | True                | 0.03237486          | True                | 36                  | 490                 | \n",
       "| 287140              | 2007-03-04T16:53:00 |  38340.6516         | 40099.9372          | False               | 0.02374293          | True                | 16                  |  83                 | \n",
       "| 287141              | 2007-03-04T17:32:00 |    750.8304         |   424.0806          | False               | 0.02374293          | True                | 17                  |  83                 | \n",
       "| 287142              | 2007-03-04T18:07:00 |   1480.6781         |   838.8531          | False               | 0.02374293          | True                | 18                  |  83                 | \n",
       "| 287148              | 2007-03-16T23:01:00 | 135209.1003         | 50269.7057          | True                | 0.03237486          | True                | 37                  | 490                 | \n",
       "| 287149              | 2007-03-17T08:44:00 |   1134.0916         |   847.2260          | True                | 0.03237486          | True                | 38                  | 491                 | \n",
       "\n",
       "\n"
      ],
      "text/plain": [
       "  utt_id timestamp           perplexity_overall perplexity_year admin_status\n",
       "1 287147 2007-03-16T22:12:00   1376.2694          697.7685      True        \n",
       "2 287140 2007-03-04T16:53:00  38340.6516        40099.9372      False       \n",
       "3 287141 2007-03-04T17:32:00    750.8304          424.0806      False       \n",
       "4 287142 2007-03-04T18:07:00   1480.6781          838.8531      False       \n",
       "5 287148 2007-03-16T23:01:00 135209.1003        50269.7057      True        \n",
       "6 287149 2007-03-17T08:44:00   1134.0916          847.2260      True        \n",
       "  eigen_central eigen_central_bin utt_rank days_since_first\n",
       "1 0.03237486    True              36       490             \n",
       "2 0.02374293    True              16        83             \n",
       "3 0.02374293    True              17        83             \n",
       "4 0.02374293    True              18        83             \n",
       "5 0.03237486    True              37       490             \n",
       "6 0.03237486    True              38       491             "
      ]
     },
     "metadata": {},
     "output_type": "display_data"
    }
   ],
   "source": [
    "d = read.csv(\"../data/utt_stats.csv\", header = TRUE)\n",
    "library(lsr)\n",
    "head(d)"
   ]
  },
  {
   "cell_type": "markdown",
   "metadata": {},
   "source": [
    "## Social power <> perplexity (time-sensitive analysis)"
   ]
  },
  {
   "cell_type": "code",
   "execution_count": 49,
   "metadata": {
    "collapsed": true
   },
   "outputs": [],
   "source": [
    "# Split the data into utterances by high centrality/low centrality users\n",
    "d.hcentral <- subset(d, eigen_central_bin == \"True\")\n",
    "d.lcentral <- subset(d, eigen_central_bin == \"False\")\n",
    "\n",
    "# Split the data into admin/non-admin\n",
    "d.admin <- subset(d, admin_status == \"True\")\n",
    "d.nonadmin <- subset(d, admin_status == \"False\")\n"
   ]
  },
  {
   "cell_type": "code",
   "execution_count": 46,
   "metadata": {},
   "outputs": [
    {
     "data": {
      "text/plain": [
       "\n",
       "\tWelch Two Sample t-test\n",
       "\n",
       "data:  d.hcentral$perplexity_year and d.lcentral$perplexity_year\n",
       "t = 12.312, df = 273900, p-value < 2.2e-16\n",
       "alternative hypothesis: true difference in means is not equal to 0\n",
       "95 percent confidence interval:\n",
       " 1198.335 1652.122\n",
       "sample estimates:\n",
       "mean of x mean of y \n",
       " 7573.527  6148.299 \n"
      ]
     },
     "metadata": {},
     "output_type": "display_data"
    },
    {
     "data": {
      "text/plain": [
       "\n",
       "\tWelch Two Sample t-test\n",
       "\n",
       "data:  d.hcentral$perplexity_overall and d.lcentral$perplexity_overall\n",
       "t = 9.9255, df = 281790, p-value < 2.2e-16\n",
       "alternative hypothesis: true difference in means is not equal to 0\n",
       "95 percent confidence interval:\n",
       " 2634.039 3930.282\n",
       "sample estimates:\n",
       "mean of x mean of y \n",
       " 18988.77  15706.61 \n"
      ]
     },
     "metadata": {},
     "output_type": "display_data"
    }
   ],
   "source": [
    "# Test for differences in perplexity for high/low centrality utterances\n",
    "t.test(d.hcentral$perplexity_year, d.lcentral$perplexity_year)\n",
    "t.test(d.hcentral$perplexity_overall, d.lcentral$perplexity_overall)"
   ]
  },
  {
   "cell_type": "markdown",
   "metadata": {},
   "source": [
    "**Result:** Confirming the user aggrigate result, a users's centrality at the time of utterance is positively correlated with the utterance's perplexity. This holds both for perplexity calculated on the local (that year's) LM as well as the aggrigate (whole corpus) LM."
   ]
  },
  {
   "cell_type": "markdown",
   "metadata": {},
   "source": [
    "## Change in perplexity over time"
   ]
  },
  {
   "cell_type": "code",
   "execution_count": 47,
   "metadata": {},
   "outputs": [
    {
     "data": {
      "text/plain": [
       "\n",
       "\tPearson's product-moment correlation\n",
       "\n",
       "data:  d$perplexity_year and d$days_since_first\n",
       "t = -1.9244, df = 375830, p-value = 0.05431\n",
       "alternative hypothesis: true correlation is not equal to 0\n",
       "95 percent confidence interval:\n",
       " -6.336070e-03  5.802254e-05\n",
       "sample estimates:\n",
       "         cor \n",
       "-0.003139056 \n"
      ]
     },
     "metadata": {},
     "output_type": "display_data"
    },
    {
     "data": {
      "text/plain": [
       "\n",
       "\tPearson's product-moment correlation\n",
       "\n",
       "data:  d$perplexity_overall and d$days_since_first\n",
       "t = -7.9811, df = 375830, p-value = 1.455e-15\n",
       "alternative hypothesis: true correlation is not equal to 0\n",
       "95 percent confidence interval:\n",
       " -0.016214014 -0.009820942\n",
       "sample estimates:\n",
       "        cor \n",
       "-0.01301761 \n"
      ]
     },
     "metadata": {},
     "output_type": "display_data"
    }
   ],
   "source": [
    "cor.test(d$perplexity_year, d$days_since_first)\n",
    "cor.test(d$perplexity_overall, d$days_since_first)"
   ]
  },
  {
   "cell_type": "markdown",
   "metadata": {},
   "source": [
    "**Result:** Perplexity (whole corpus LM) is negatively correlated with the number of days since the user's first utterance (suggesting perplexity goes down over time). But the correlation is fairly weak, and not significant for perplexity under the local LM."
   ]
  },
  {
   "cell_type": "markdown",
   "metadata": {},
   "source": [
    "## Social power <> trendy speech\n",
    "Here I'm defining \"trendiness\" as the difference between perplexity in the overall language model and perplexity in the current (that year's) language model."
   ]
  },
  {
   "cell_type": "code",
   "execution_count": 28,
   "metadata": {},
   "outputs": [
    {
     "data": {
      "text/plain": [
       "\n",
       "\tPearson's product-moment correlation\n",
       "\n",
       "data:  d$perplexity_overall - d$perplexity_year and d$eigen_central\n",
       "t = 20.284, df = 375830, p-value < 2.2e-16\n",
       "alternative hypothesis: true correlation is not equal to 0\n",
       "95 percent confidence interval:\n",
       " 0.02987464 0.03626180\n",
       "sample estimates:\n",
       "       cor \n",
       "0.03306855 \n"
      ]
     },
     "metadata": {},
     "output_type": "display_data"
    }
   ],
   "source": [
    "# \"trendiness\" = perplexity_overall - perplexity_year\n",
    "cor.test(d$perplexity_overall - d$perplexity_year, d$eigen_central)"
   ]
  },
  {
   "cell_type": "code",
   "execution_count": 52,
   "metadata": {},
   "outputs": [
    {
     "data": {
      "text/plain": [
       "\n",
       "\tWelch Two Sample t-test\n",
       "\n",
       "data:  d.hcentral$perplexity_overall - d.hcentral$perplexity_year and d.lcentral$perplexity_overall - d.lcentral$perplexity_year\n",
       "t = 8.4396, df = 285610, p-value < 2.2e-16\n",
       "alternative hypothesis: true difference in means is not equal to 0\n",
       "95 percent confidence interval:\n",
       " 1425.685 2288.180\n",
       "sample estimates:\n",
       "mean of x mean of y \n",
       "11415.240  9558.308 \n"
      ]
     },
     "metadata": {},
     "output_type": "display_data"
    },
    {
     "name": "stdout",
     "output_type": "stream",
     "text": [
      "Cohen's D: 0.02886084NULL\n"
     ]
    }
   ],
   "source": [
    "t.test(d.hcentral$perplexity_overall - d.hcentral$perplexity_year, d.lcentral$perplexity_overall - d.lcentral$perplexity_year)\n",
    "print(cat(\"Cohen's D:\", cohensD(d.hcentral$perplexity_overall - d.hcentral$perplexity_year, d.lcentral$perplexity_overall - d.lcentral$perplexity_year)))"
   ]
  },
  {
   "cell_type": "markdown",
   "metadata": {},
   "source": [
    "**Result:** \"Trendiness\" is positively correlated with Eigenvector centrality (p < 0.01). Likewise, binarized centrality has a weak but significant positive effect (d = 0.029, p < 0.01) on \"trendiness\"."
   ]
  },
  {
   "cell_type": "code",
   "execution_count": null,
   "metadata": {
    "collapsed": true
   },
   "outputs": [],
   "source": []
  }
 ],
 "metadata": {
  "kernelspec": {
   "display_name": "R",
   "language": "R",
   "name": "ir"
  },
  "language_info": {
   "codemirror_mode": "r",
   "file_extension": ".r",
   "mimetype": "text/x-r-source",
   "name": "R",
   "pygments_lexer": "r",
   "version": "3.2.3"
  }
 },
 "nbformat": 4,
 "nbformat_minor": 2
}
