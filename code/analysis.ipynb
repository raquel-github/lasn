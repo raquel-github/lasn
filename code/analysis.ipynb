{
 "cells": [
  {
   "cell_type": "code",
   "execution_count": 1,
   "metadata": {},
   "outputs": [
    {
     "data": {
      "text/html": [
       "<table>\n",
       "<thead><tr><th scope=col>user_id</th><th scope=col>edit_count</th><th scope=col>gender</th><th scope=col>admin_ascention</th><th scope=col>admin</th><th scope=col>eigen_central</th><th scope=col>eigen_central_bin</th><th scope=col>community</th><th scope=col>coord_given_all</th><th scope=col>coord_received_all</th><th scope=col>coord_given_ingroup</th><th scope=col>coord_received_ingroup</th><th scope=col>post_count</th><th scope=col>italics_freq</th><th scope=col>bold_freq</th><th scope=col>link_freq</th><th scope=col>function_words_freq</th><th scope=col>avg_length_tokens</th></tr></thead>\n",
       "<tbody>\n",
       "\t<tr><td>RSOVRGR        </td><td>    2          </td><td>unknown        </td><td>               </td><td>False          </td><td>4.891008e-06   </td><td>False          </td><td> 1             </td><td>NaN            </td><td>NaN            </td><td>NA             </td><td>NA             </td><td>1              </td><td>NA             </td><td>NA             </td><td>NA             </td><td>16.000000      </td><td>1.000000       </td></tr>\n",
       "\t<tr><td>Athenagoras    </td><td>   24          </td><td>unknown        </td><td>               </td><td>False          </td><td>2.640434e-08   </td><td>False          </td><td> 0             </td><td>  0            </td><td>  0            </td><td>NA             </td><td>NA             </td><td>1              </td><td>NA             </td><td>NA             </td><td>NA             </td><td>16.000000      </td><td>4.000000       </td></tr>\n",
       "\t<tr><td>Themaxviwe     </td><td> 1465          </td><td>male           </td><td>               </td><td>False          </td><td>1.393723e-04   </td><td>False          </td><td> 1             </td><td>  0            </td><td>  0            </td><td>NA             </td><td>NA             </td><td>3              </td><td>NA             </td><td>NA             </td><td>NA             </td><td> 6.333333      </td><td>1.000000       </td></tr>\n",
       "\t<tr><td>Cloud02        </td><td>  765          </td><td>unknown        </td><td>               </td><td>False          </td><td>4.705397e-06   </td><td>False          </td><td> 3             </td><td>  0            </td><td>  0            </td><td>NA             </td><td>NA             </td><td>3              </td><td>NA             </td><td>NA             </td><td>NA             </td><td>21.333333      </td><td>3.000000       </td></tr>\n",
       "\t<tr><td>Anthony Winward</td><td>10669          </td><td>male           </td><td>               </td><td>False          </td><td>3.804158e-05   </td><td>False          </td><td> 4             </td><td>NaN            </td><td>NaN            </td><td>NA             </td><td>NA             </td><td>7              </td><td>NA             </td><td>NA             </td><td>NA             </td><td> 5.571429      </td><td>1.142857       </td></tr>\n",
       "\t<tr><td>Seikku Kaita   </td><td>   81          </td><td>unknown        </td><td>               </td><td>False          </td><td>          NA   </td><td>               </td><td>NA             </td><td>NaN            </td><td>NaN            </td><td>NA             </td><td>NA             </td><td>1              </td><td>NA             </td><td>NA             </td><td>NA             </td><td> 7.000000      </td><td>1.000000       </td></tr>\n",
       "</tbody>\n",
       "</table>\n"
      ],
      "text/latex": [
       "\\begin{tabular}{r|llllllllllllllllll}\n",
       " user\\_id & edit\\_count & gender & admin\\_ascention & admin & eigen\\_central & eigen\\_central\\_bin & community & coord\\_given\\_all & coord\\_received\\_all & coord\\_given\\_ingroup & coord\\_received\\_ingroup & post\\_count & italics\\_freq & bold\\_freq & link\\_freq & function\\_words\\_freq & avg\\_length\\_tokens\\\\\n",
       "\\hline\n",
       "\t RSOVRGR         &     2           & unknown         &                 & False           & 4.891008e-06    & False           &  1              & NaN             & NaN             & NA              & NA              & 1               & NA              & NA              & NA              & 16.000000       & 1.000000       \\\\\n",
       "\t Athenagoras     &    24           & unknown         &                 & False           & 2.640434e-08    & False           &  0              &   0             &   0             & NA              & NA              & 1               & NA              & NA              & NA              & 16.000000       & 4.000000       \\\\\n",
       "\t Themaxviwe      &  1465           & male            &                 & False           & 1.393723e-04    & False           &  1              &   0             &   0             & NA              & NA              & 3               & NA              & NA              & NA              &  6.333333       & 1.000000       \\\\\n",
       "\t Cloud02         &   765           & unknown         &                 & False           & 4.705397e-06    & False           &  3              &   0             &   0             & NA              & NA              & 3               & NA              & NA              & NA              & 21.333333       & 3.000000       \\\\\n",
       "\t Anthony Winward & 10669           & male            &                 & False           & 3.804158e-05    & False           &  4              & NaN             & NaN             & NA              & NA              & 7               & NA              & NA              & NA              &  5.571429       & 1.142857       \\\\\n",
       "\t Seikku Kaita    &    81           & unknown         &                 & False           &           NA    &                 & NA              & NaN             & NaN             & NA              & NA              & 1               & NA              & NA              & NA              &  7.000000       & 1.000000       \\\\\n",
       "\\end{tabular}\n"
      ],
      "text/markdown": [
       "\n",
       "user_id | edit_count | gender | admin_ascention | admin | eigen_central | eigen_central_bin | community | coord_given_all | coord_received_all | coord_given_ingroup | coord_received_ingroup | post_count | italics_freq | bold_freq | link_freq | function_words_freq | avg_length_tokens | \n",
       "|---|---|---|---|---|---|\n",
       "| RSOVRGR         |     2           | unknown         |                 | False           | 4.891008e-06    | False           |  1              | NaN             | NaN             | NA              | NA              | 1               | NA              | NA              | NA              | 16.000000       | 1.000000        | \n",
       "| Athenagoras     |    24           | unknown         |                 | False           | 2.640434e-08    | False           |  0              |   0             |   0             | NA              | NA              | 1               | NA              | NA              | NA              | 16.000000       | 4.000000        | \n",
       "| Themaxviwe      |  1465           | male            |                 | False           | 1.393723e-04    | False           |  1              |   0             |   0             | NA              | NA              | 3               | NA              | NA              | NA              |  6.333333       | 1.000000        | \n",
       "| Cloud02         |   765           | unknown         |                 | False           | 4.705397e-06    | False           |  3              |   0             |   0             | NA              | NA              | 3               | NA              | NA              | NA              | 21.333333       | 3.000000        | \n",
       "| Anthony Winward | 10669           | male            |                 | False           | 3.804158e-05    | False           |  4              | NaN             | NaN             | NA              | NA              | 7               | NA              | NA              | NA              |  5.571429       | 1.142857        | \n",
       "| Seikku Kaita    |    81           | unknown         |                 | False           |           NA    |                 | NA              | NaN             | NaN             | NA              | NA              | 1               | NA              | NA              | NA              |  7.000000       | 1.000000        | \n",
       "\n",
       "\n"
      ],
      "text/plain": [
       "  user_id         edit_count gender  admin_ascention admin eigen_central\n",
       "1 RSOVRGR             2      unknown                 False 4.891008e-06 \n",
       "2 Athenagoras        24      unknown                 False 2.640434e-08 \n",
       "3 Themaxviwe       1465      male                    False 1.393723e-04 \n",
       "4 Cloud02           765      unknown                 False 4.705397e-06 \n",
       "5 Anthony Winward 10669      male                    False 3.804158e-05 \n",
       "6 Seikku Kaita       81      unknown                 False           NA \n",
       "  eigen_central_bin community coord_given_all coord_received_all\n",
       "1 False              1        NaN             NaN               \n",
       "2 False              0          0               0               \n",
       "3 False              1          0               0               \n",
       "4 False              3          0               0               \n",
       "5 False              4        NaN             NaN               \n",
       "6                   NA        NaN             NaN               \n",
       "  coord_given_ingroup coord_received_ingroup post_count italics_freq bold_freq\n",
       "1 NA                  NA                     1          NA           NA       \n",
       "2 NA                  NA                     1          NA           NA       \n",
       "3 NA                  NA                     3          NA           NA       \n",
       "4 NA                  NA                     3          NA           NA       \n",
       "5 NA                  NA                     7          NA           NA       \n",
       "6 NA                  NA                     1          NA           NA       \n",
       "  link_freq function_words_freq avg_length_tokens\n",
       "1 NA        16.000000           1.000000         \n",
       "2 NA        16.000000           4.000000         \n",
       "3 NA         6.333333           1.000000         \n",
       "4 NA        21.333333           3.000000         \n",
       "5 NA         5.571429           1.142857         \n",
       "6 NA         7.000000           1.000000         "
      ]
     },
     "metadata": {},
     "output_type": "display_data"
    }
   ],
   "source": [
    "d = read.csv(\"../data/wiki/user_data.csv\", header = TRUE)\n",
    "library(lsr)\n",
    "head(d)"
   ]
  },
  {
   "cell_type": "code",
   "execution_count": 38,
   "metadata": {},
   "outputs": [
    {
     "data": {
      "text/plain": [
       "\n",
       "\tSpearman's rank correlation rho\n",
       "\n",
       "data:  d$eigenvector_centrality and d$coord_received_univ_agg\n",
       "S = 8.9218e+11, p-value < 2.2e-16\n",
       "alternative hypothesis: true rho is greater than 0\n",
       "sample estimates:\n",
       "     rho \n",
       "0.189738 \n"
      ]
     },
     "metadata": {},
     "output_type": "display_data"
    }
   ],
   "source": [
    "cor.test(d$eigenvector_centrality, d$coord_received_univ_agg, alternative=\"greater\", method=\"spearman\", exact = FALSE)"
   ]
  },
  {
   "cell_type": "code",
   "execution_count": 39,
   "metadata": {},
   "outputs": [
    {
     "data": {
      "text/plain": [
       "\n",
       "\tSpearman's rank correlation rho\n",
       "\n",
       "data:  d$eigenvector_centrality and d$coord_given_univ_agg\n",
       "S = 3.5665e+11, p-value < 2.2e-16\n",
       "alternative hypothesis: true rho is greater than 0\n",
       "sample estimates:\n",
       "      rho \n",
       "0.1941795 \n"
      ]
     },
     "metadata": {},
     "output_type": "display_data"
    }
   ],
   "source": [
    "cor.test(d$eigenvector_centrality, d$coord_given_univ_agg, alternative=\"greater\", method=\"spearman\", exact = FALSE)"
   ]
  },
  {
   "cell_type": "code",
   "execution_count": 46,
   "metadata": {},
   "outputs": [
    {
     "data": {
      "text/plain": [
       "\n",
       "\tPearson's product-moment correlation\n",
       "\n",
       "data:  d$coord_received and d$link_usage\n",
       "t = -0.62709, df = 20649, p-value = 0.5306\n",
       "alternative hypothesis: true correlation is not equal to 0\n",
       "95 percent confidence interval:\n",
       " -0.018001829  0.009275628\n",
       "sample estimates:\n",
       "         cor \n",
       "-0.004363912 \n"
      ]
     },
     "metadata": {},
     "output_type": "display_data"
    }
   ],
   "source": [
    "cor.test(d$coord_received, d$link_usage)"
   ]
  },
  {
   "cell_type": "code",
   "execution_count": 2,
   "metadata": {},
   "outputs": [
    {
     "data": {
      "text/plain": [
       "\n",
       "\tWelch Two Sample t-test\n",
       "\n",
       "data:  d$coord_given_all and d$coord_given_ingroup\n",
       "t = 2.1289, df = 74.774, p-value = 0.03656\n",
       "alternative hypothesis: true difference in means is not equal to 0\n",
       "95 percent confidence interval:\n",
       " 0.0006545127 0.0197317493\n",
       "sample estimates:\n",
       "   mean of x    mean of y \n",
       " 0.005561945 -0.004631186 \n"
      ]
     },
     "metadata": {},
     "output_type": "display_data"
    }
   ],
   "source": [
    "t.test(d$coord_given_all, d$coord_given_ingroup)"
   ]
  },
  {
   "cell_type": "code",
   "execution_count": 3,
   "metadata": {},
   "outputs": [
    {
     "data": {
      "text/plain": [
       "\n",
       "\tWelch Two Sample t-test\n",
       "\n",
       "data:  d$coord_received_all and d$coord_received_ingroup\n",
       "t = 2.1289, df = 74.774, p-value = 0.03656\n",
       "alternative hypothesis: true difference in means is not equal to 0\n",
       "95 percent confidence interval:\n",
       " 0.0006545127 0.0197317493\n",
       "sample estimates:\n",
       "   mean of x    mean of y \n",
       " 0.005561945 -0.004631186 \n"
      ]
     },
     "metadata": {},
     "output_type": "display_data"
    }
   ],
   "source": [
    "t.test(d$coord_received_all, d$coord_received_ingroup)"
   ]
  },
  {
   "cell_type": "code",
   "execution_count": null,
   "metadata": {
    "collapsed": true
   },
   "outputs": [],
   "source": []
  }
 ],
 "metadata": {
  "kernelspec": {
   "display_name": "R",
   "language": "R",
   "name": "ir"
  },
  "language_info": {
   "codemirror_mode": "r",
   "file_extension": ".r",
   "mimetype": "text/x-r-source",
   "name": "R",
   "pygments_lexer": "r",
   "version": "3.2.3"
  }
 },
 "nbformat": 4,
 "nbformat_minor": 2
}
